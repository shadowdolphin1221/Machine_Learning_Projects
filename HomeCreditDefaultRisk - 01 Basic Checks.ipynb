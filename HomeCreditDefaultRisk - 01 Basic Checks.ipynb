{
 "cells": [
  {
   "cell_type": "markdown",
   "metadata": {},
   "source": [
    "# Summary"
   ]
  },
  {
   "cell_type": "markdown",
   "metadata": {},
   "source": [
    "* Our hands-on case study uses credit risk datasets from a financial institution. Our goal is to predict loan repayment capabilities for applicants with insufficient credit history and help the financial institution to make a decision as to whether or not it should grant the loan. \n",
    "\n",
    "* There are a total of 7 tables - one main dataset called \"application_train\", and 6 supporting datasets. \n",
    "\n",
    "* For demo purpose we have already sampled the datasets to a decent size (10%) to save time, but in real-life scenario it can be scaled based on client's need and computing power.  \n",
    "\n",
    "* In this section we will focus on producing preliminary quick-win checks and analysis: \n",
    "\n",
    "> 1. Exploratory Data Analysis (EDA) - when the dataset is too large to be viewed, how do we examine it\n",
    "2. Merge rate check - when join two datasets, how good is the result\n",
    "\n",
    "* Main python functions covered in this chapter:\n",
    "\n",
    "> 1. **EDA()** function: from class function **EDA** which gives you count check results across dataset, the check results are returned in 2 parts, one for numerical variables and the other one for categorical variables. This function takes one mandatory parameter - a Pandas dataframe, and one optional parameter - a list of float (percentage you want to use as percentile value cutoff). \n",
    "2. **merge_rate()** function: from class function **SuppportingFunctions** which gives you merge rate between 2 datasets. This function takes 3 mandatory parameters - two Pandas dataframes and a String (the name of the join key you want to use for merging). "
   ]
  },
  {
   "cell_type": "markdown",
   "metadata": {},
   "source": [
    "# Load Libraries"
   ]
  },
  {
   "cell_type": "code",
   "execution_count": 1,
   "metadata": {},
   "outputs": [
    {
     "name": "stdout",
     "output_type": "stream",
     "text": [
      "Python 3.7.6 (default, Jan  8 2020, 20:23:39) [MSC v.1916 64 bit (AMD64)]\n"
     ]
    }
   ],
   "source": [
    "## system config ##\n",
    "import sys\n",
    "import os\n",
    "nb_dir = os.path.split(os.getcwd())[0] + \"/\" + os.path.split(os.getcwd())[1] + \"\\\\Self-defined Modules\"\n",
    "sys.path.append(nb_dir) # Add a directory into sys path\n",
    "\n",
    "print ('Python', sys.version)"
   ]
  },
  {
   "cell_type": "code",
   "execution_count": 2,
   "metadata": {},
   "outputs": [],
   "source": [
    "## public libraries ##\n",
    "\n",
    "# data manipulation\n",
    "import pandas as pd\n",
    "\n",
    "# suppress warnings from pandas\n",
    "import warnings\n",
    "warnings.filterwarnings('ignore')"
   ]
  },
  {
   "cell_type": "code",
   "execution_count": 3,
   "metadata": {},
   "outputs": [],
   "source": [
    "## self-defined modules ##\n",
    "import EDA as EDA  # to calculate EDA (extented data dictionary)\n",
    "import SupportingFunctions as SF  # a collection of useful funtions such as load/write, merge rate, plotting, etc."
   ]
  },
  {
   "cell_type": "markdown",
   "metadata": {},
   "source": [
    "# Import Data"
   ]
  },
  {
   "cell_type": "code",
   "execution_count": 4,
   "metadata": {},
   "outputs": [
    {
     "name": "stdout",
     "output_type": "stream",
     "text": [
      "time elapsed: 0.0550084114074707 seconds\n",
      "dataframe dimension: (3075, 119)\n",
      "time elapsed: 0.05905747413635254 seconds\n",
      "dataframe dimension: (14256, 37)\n",
      "time elapsed: 0.04702591896057129 seconds\n",
      "dataframe dimension: (24324, 23)\n",
      "time elapsed: 0.05197429656982422 seconds\n",
      "dataframe dimension: (84759, 8)\n",
      "time elapsed: 0.08003497123718262 seconds\n",
      "dataframe dimension: (109455, 8)\n",
      "time elapsed: 0.03000020980834961 seconds\n",
      "dataframe dimension: (14111, 17)\n",
      "time elapsed: 0.04399394989013672 seconds\n",
      "dataframe dimension: (150152, 3)\n"
     ]
    }
   ],
   "source": [
    "## data loading ##\n",
    "dir_sample_data = os.path.split(os.getcwd())[0] + \"\\\\2. Data\\\\Sample\"\n",
    "\n",
    "df_application_train = SF.load_csv(dir_sample_data + \"\\\\application_train.csv\")\n",
    "df_pre_application = SF.load_csv(dir_sample_data + \"\\\\previous_application.csv\")\n",
    "df_credit_card_bal = SF.load_csv(dir_sample_data + \"\\\\credit_card_balance.csv\")\n",
    "df_pos_cash_bal = SF.load_csv(dir_sample_data + \"\\\\POS_CASH_balance.csv\")\n",
    "df_installments_payments = SF.load_csv(dir_sample_data + \"\\\\installments_payments.csv\")\n",
    "df_bureau = SF.load_csv(dir_sample_data + \"\\\\bureau.csv\")\n",
    "df_bureau_bal = SF.load_csv(dir_sample_data + \"\\\\bureau_balance.csv\")"
   ]
  },
  {
   "cell_type": "markdown",
   "metadata": {},
   "source": [
    "# EDA"
   ]
  },
  {
   "cell_type": "markdown",
   "metadata": {},
   "source": [
    "#### Exploratory Data Analysis package produces two output tables per dataset: \n",
    "\n",
    "* EDA for numeric variables, which contain the following information: \n",
    "\n",
    "|   |   |   |   |   |   |   |   |\n",
    "| :-: | :-: | :-: | :-: | :-: | :-: | :-: | :-: |\n",
    "| Number of observations | Count of null observations | Percentage of null observations | Count of unique values |\n",
    "| Count of non-null observations | Mean/Average of all observations | Standard deviation | Minimum value |\n",
    "| Bottom 1% percentile value | Bottom 5% percentile value | Bottom 25% percentile value | Median value |\n",
    "| Top 25% percentile value | Top 5% percentile value | Top 1% percentile value | Maximum value\n",
    "\n",
    "Note: This is the default setting. Percentile cutoff can be user-defined. \n",
    "\n",
    "* EDA for categorical variables, which contain the following information: \n",
    "\n",
    "|   |   |   |   |   |   |   |   |\n",
    "| :-: | :-: | :-: | :-: | :-: | :-: | :-: | :-: |\n",
    "| Number of observations | Count of null observations | Percentage of null observations | Count of unique values |\n",
    "| Count of non-null observations | Top 1 most frequent category | The frequecy of this category (by count) | Top 2 most frequent category |\n",
    "| The frequecy of this category (by count) | Top 3 most frequent category | The frequecy of this category (by count) | Top 4 most frequent category |\n",
    "| The frequecy of this category (by count) | Top 5 most frequent category | The frequecy of this category (by count) |   |\n",
    "\n",
    "Note: This is the default setting. The number of categories shown can be user-defined. \n"
   ]
  },
  {
   "cell_type": "code",
   "execution_count": 5,
   "metadata": {},
   "outputs": [
    {
     "name": "stdout",
     "output_type": "stream",
     "text": [
      "EDA (numeric) for df_application_train saved. \n",
      "EDA (categorical) for df_application_train saved. \n",
      "EDA (numeric) for df_pre_application saved. \n",
      "EDA (categorical) for df_pre_application saved. \n",
      "EDA (numeric) for df_credit_card_bal saved. \n",
      "EDA (categorical) for df_credit_card_bal saved. \n",
      "EDA (numeric) for df_pos_cash_bal saved. \n",
      "EDA (categorical) for df_pos_cash_bal saved. \n",
      "EDA (numeric) for df_installments_payments saved. \n",
      "EDA (categorical) for df_installments_payments failed. \n",
      "EDA (numeric) for df_bureau saved. \n",
      "EDA (categorical) for df_bureau saved. \n",
      "EDA (numeric) for df_bureau_bal saved. \n",
      "EDA (categorical) for df_bureau_bal saved. \n",
      "\n",
      "----COMPLETE----\n",
      "Please see results at C:\\Users\\wangle\\Desktop\\Training\\ML\\3. Output\\EDA\n"
     ]
    }
   ],
   "source": [
    "df_list = ['df_application_train', 'df_pre_application', 'df_credit_card_bal', \\\n",
    "           'df_pos_cash_bal', 'df_installments_payments', 'df_bureau', \\\n",
    "           'df_bureau_bal']\n",
    "for df_name in df_list: \n",
    "    df = locals()[df_name]\n",
    "    df1, df2 = EDA.EDA(df)\n",
    "    writer = pd.ExcelWriter(os.path.split(os.getcwd())[0] + \"\\\\3. Output\\\\EDA\\\\EDA - \" + df_name + \".xlsx\", engine='xlsxwriter')\n",
    "    try: \n",
    "        df1.to_excel(writer, sheet_name='EDA_numeric', index=False)\n",
    "        print(\"EDA (numeric) for \" + df_name + \" saved. \")\n",
    "    except: \n",
    "        print(\"EDA (numeric) for \" + df_name + \" failed. \")\n",
    "    try: \n",
    "        df2.to_excel(writer, sheet_name='EDA_categorical', index=False)\n",
    "        print(\"EDA (categorical) for \" + df_name + \" saved. \")\n",
    "    except: \n",
    "        print(\"EDA (categorical) for \" + df_name + \" failed. \")\n",
    "        \n",
    "    writer.save()\n",
    "\n",
    "print(\"\")\n",
    "print(\"----COMPLETE----\")\n",
    "print(\"Please see results at \" + os.path.split(os.getcwd())[0] + \"\\\\3. Output\\\\EDA\")"
   ]
  },
  {
   "cell_type": "markdown",
   "metadata": {},
   "source": [
    "# Check Join Keys"
   ]
  },
  {
   "cell_type": "markdown",
   "metadata": {},
   "source": [
    "If the merge rate between datasets is too low, then it raises concerns on data quality. \n",
    "* % left only = percentage of join keys that only exist in the **left** dataframe; \n",
    "* % right only = percentage of join keys that only exist in the **right** dataframe; \n",
    "* % merge rate = 1 - (% left only + % right only)"
   ]
  },
  {
   "cell_type": "code",
   "execution_count": 6,
   "metadata": {},
   "outputs": [
    {
     "name": "stdout",
     "output_type": "stream",
     "text": [
      "% left only: 0.03043836745911777\n",
      "% right only: 0.0\n",
      "% merge rate: 0.9695616325408822\n",
      "\n",
      "% left only: 0.05573688016853756\n",
      "% right only: 0.0\n",
      "% merge rate: 0.9442631198314625\n",
      "\n",
      "% left only: 0.010755672749982651\n",
      "% right only: 0.0\n",
      "% merge rate: 0.9892443272500173\n",
      "\n",
      "% left only: 0.06980904302019315\n",
      "% right only: 0.0\n",
      "% merge rate: 0.9301909569798068\n",
      "\n",
      "% left only: 0.05056209014260435\n",
      "% right only: 0.0\n",
      "% merge rate: 0.9494379098573956\n",
      "\n",
      "% left only: 0.3563887492392771\n",
      "% right only: 0.0\n",
      "% merge rate: 0.6436112507607229\n",
      "\n"
     ]
    }
   ],
   "source": [
    "# merge_rate(df1, df2, key)\n",
    "# calculates the merge rate of df1 and df2 on the given column\n",
    "SF.merge_rate(df_application_train, df_bureau, 'SK_ID_CURR')\n",
    "SF.merge_rate(df_bureau, df_bureau_bal, 'SK_ID_BUREAU')\n",
    "SF.merge_rate(df_application_train, df_pre_application, 'SK_ID_CURR')\n",
    "SF.merge_rate(df_pre_application, df_pos_cash_bal, 'SK_ID_PREV')\n",
    "SF.merge_rate(df_pre_application, df_installments_payments, 'SK_ID_PREV')\n",
    "SF.merge_rate(df_pre_application, df_credit_card_bal, 'SK_ID_PREV')"
   ]
  }
 ],
 "metadata": {
  "kernelspec": {
   "display_name": "Python 3",
   "language": "python",
   "name": "python3"
  },
  "language_info": {
   "codemirror_mode": {
    "name": "ipython",
    "version": 3
   },
   "file_extension": ".py",
   "mimetype": "text/x-python",
   "name": "python",
   "nbconvert_exporter": "python",
   "pygments_lexer": "ipython3",
   "version": "3.7.6"
  }
 },
 "nbformat": 4,
 "nbformat_minor": 2
}
