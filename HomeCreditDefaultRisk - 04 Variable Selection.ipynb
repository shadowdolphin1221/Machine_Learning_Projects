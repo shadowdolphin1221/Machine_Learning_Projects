{
 "cells": [
  {
   "cell_type": "markdown",
   "metadata": {
    "id": "9xBJHUn4OQo7"
   },
   "source": [
    "# Summary"
   ]
  },
  {
   "cell_type": "markdown",
   "metadata": {
    "id": "wB2V7OwGOQo8"
   },
   "source": [
    "As you may notice from last chapter, the original dataset comes with 119 variables, we don't expect the model to analyze on them all as some variables may have a lot of noises which will end up weakening model's learning capability. A selection and filtering on variables is essential if we want to enhance the model learning result.\n",
    "\n",
    "\n",
    "\n",
    "This section we will cover some steps and methods generally used for variables selection. Upon the completion of this chapter, you will know:\n",
    "\n",
    "\n",
    "\n",
    "*   How to clean up the dataset by removing variables with a lot missing values/ are low variant\n",
    "*   How to transform the categorical variables into numerical ones with WOE Transformation\n",
    "*   How to measure the importance of variable using a machine learning model-- Random forest, and drop variables with low importance\n",
    "*   How to quanify the amount of information hold by each variable, and remove those contain weak/minor information\n",
    "*   How to remove variables that are highly correlated\n",
    "*   Additionally, how to let a machine learning method--clustering to select \n",
    "variables for you(this part is optional)\n",
    "\n",
    "\n",
    "\n",
    "\n",
    "Main python functions covered in this chapter:\n",
    "*   **EDA()** function: from class function **EDA** which gives you count check results across dataset, the check results are returned in 2 parts, one for numerical variables and the other one for categorical variables.\n",
    "*   **WOE()** function: from class function **WOE_Transformation** which performs the WOE transformation on input dataset.\n",
    "*   **my_sklearn_rf()** function: from class function **MLM** which defines a suits of machine learning models. The my_sklearn_rf() is used for random forest modeling.\n",
    "*   **my_corr()** function: from class function **SupportingFunction** which calculates correlation coefficient of all possible pairs of variables.\n",
    "*   **cluster_analysis()** function: from class function **SupportingFunction** which applies cluster analysis on variables in dataset\n",
    "\n",
    "\n",
    "\n",
    "\n",
    "\n",
    "\n"
   ]
  },
  {
   "cell_type": "markdown",
   "metadata": {
    "id": "OSKrTym-OQo9"
   },
   "source": [
    "# Load Libraries"
   ]
  },
  {
   "cell_type": "code",
   "execution_count": 1,
   "metadata": {
    "id": "h6ee_DMcOQo-",
    "outputId": "3c0706c9-713d-478e-d595-8cefffa657d3"
   },
   "outputs": [
    {
     "name": "stdout",
     "output_type": "stream",
     "text": [
      "Python 3.7.4 (default, Aug  9 2019, 18:34:13) [MSC v.1915 64 bit (AMD64)]\n"
     ]
    }
   ],
   "source": [
    "## system config ##\n",
    "import sys\n",
    "import os\n",
    "nb_dir = os.path.split(os.getcwd())[0] + \"/\" + os.path.split(os.getcwd())[1] + \"/Self-defined Modules\"\n",
    "sys.path.append(nb_dir) # Add a directory into sys path\n",
    "\n",
    "print ('Python', sys.version)"
   ]
  },
  {
   "cell_type": "code",
   "execution_count": 2,
   "metadata": {
    "id": "VNihz4JuOQpC"
   },
   "outputs": [],
   "source": [
    "## public libraries ##\n",
    "# data manipulation\n",
    "import pandas as pd\n",
    "import numpy as np\n",
    "\n",
    "# machine learning\n",
    "from sklearn.model_selection import train_test_split"
   ]
  },
  {
   "cell_type": "code",
   "execution_count": 3,
   "metadata": {
    "id": "a1zWcHMKOQpG"
   },
   "outputs": [],
   "source": [
    "## self-defined modules ##\n",
    "import EDA as EDA\n",
    "import SupportingFunctions as SF\n",
    "import WOE_Transformation as WOE  # self-defined module to calculate WOE (weight of evidence)\n",
    "import MachineLearningModels as MLM  # self-definde collection of most useful models"
   ]
  },
  {
   "cell_type": "markdown",
   "metadata": {
    "id": "iGoIUucJOQpJ"
   },
   "source": [
    "# Import Data"
   ]
  },
  {
   "cell_type": "code",
   "execution_count": 4,
   "metadata": {
    "id": "x5NQSGKyOQpJ",
    "outputId": "65c4b420-f2aa-4f57-b824-f00e48d4408f"
   },
   "outputs": [
    {
     "name": "stdout",
     "output_type": "stream",
     "text": [
      "time elapsed: 4.819850921630859 seconds\n",
      "dataframe dimension: (307511, 158)\n"
     ]
    }
   ],
   "source": [
    "## data loading ##\n",
    "df_model = SF.load_csv(os.path.split(os.getcwd())[0] + \"\\\\3. Output\\\\Intermediate Data\\\\modeling_ds.csv\")"
   ]
  },
  {
   "cell_type": "markdown",
   "metadata": {
    "id": "iZDUzcy4OQpN"
   },
   "source": [
    "# Variable Reduction"
   ]
  },
  {
   "cell_type": "markdown",
   "metadata": {
    "id": "sqcrxBZaOQpO"
   },
   "source": [
    "## VR.1 Drop High Missing & Low Variant"
   ]
  },
  {
   "cell_type": "code",
   "execution_count": 5,
   "metadata": {
    "id": "pBWO8YtKOQpP",
    "outputId": "1e95ef97-7435-4d0d-fc5b-707b24712922"
   },
   "outputs": [
    {
     "name": "stdout",
     "output_type": "stream",
     "text": [
      "# of columns before:  158\n",
      "==================================================\n",
      "# of columns dropped: 25\n",
      "# of columns left:    133\n"
     ]
    }
   ],
   "source": [
    "EDA_num, EDA_cat = EDA.EDA(df_model)\n",
    "\n",
    "drop_num = EDA_num[(EDA_num['MissingCt']/EDA_num['Nobs'] >= 0.95) | (EDA_num['1%']==EDA_num['99%'])]['Feature']\n",
    "drop_cat = EDA_cat[(EDA_cat['MissingCt']/EDA_cat['Nobs'] >= 0.95) | (EDA_cat['UniqueCt']==1)]['Feature']\n",
    "\n",
    "print (\"# of columns before:  \" + str(len(df_model.columns)))\n",
    "\n",
    "df_model = df_model.drop(drop_num, axis=1)\n",
    "df_model = df_model.drop(drop_cat, axis=1)\n",
    "\n",
    "print (\"=\"*50)\n",
    "print (\"# of columns dropped: \" + str(len(drop_num) + len(drop_cat)))\n",
    "print (\"# of columns left:    \" + str(df_model.shape[1]))"
   ]
  },
  {
   "cell_type": "markdown",
   "metadata": {
    "id": "UWHVmjmUOQpR"
   },
   "source": [
    "## VR.2 Apply WOE Transformation"
   ]
  },
  {
   "cell_type": "code",
   "execution_count": 6,
   "metadata": {
    "id": "19lhZQNaOQpS"
   },
   "outputs": [],
   "source": [
    "# Identify categorical variables that should be transformed\n",
    "var_y = 'TARGET'\n",
    "var_x = df_model.columns.tolist()\n",
    "var_x.remove(var_y)\n",
    "\n",
    "try: \n",
    "    var_x.remove('SK_ID_CURR')\n",
    "except: \n",
    "    print (\"Column 'SK_ID_CURR' has been removed.\")\n",
    "    \n",
    "var_cat = df_model.dtypes[df_model.dtypes == 'object'].index.tolist()\n",
    "var_num_cat = [] # categorical variables stored as numeric. Manual examination is required\n",
    "var_cat = var_cat + var_num_cat\n",
    "var_num = list(set(var_x) -  set(var_cat))"
   ]
  },
  {
   "cell_type": "code",
   "execution_count": 7,
   "metadata": {
    "id": "wdD9Kq5gOQpW",
    "outputId": "add85ab7-6bbf-42dc-e471-e35c1180dfe4",
    "scrolled": true
   },
   "outputs": [
    {
     "name": "stdout",
     "output_type": "stream",
     "text": [
      "1/115 FLOORSMIN_AVG\n",
      "2/115 FLAG_EMP_PHONE\n",
      "3/115 DAYS_LAST_PHONE_CHANGE\n",
      "4/115 REG_CITY_NOT_LIVE_CITY\n",
      "5/115 BASEMENTAREA_AVG\n",
      "6/115 pre_app_PRODUCT_COMBINATION_nunique\n",
      "7/115 pre_app_AMT_GOODS_PRICE_sum\n",
      "8/115 DAYS_BIRTH\n",
      "9/115 AMT_REQ_CREDIT_BUREAU_YEAR\n",
      "10/115 ENTRANCES_AVG\n",
      "11/115 REGION_RATING_CLIENT\n",
      "12/115 LIVINGAPARTMENTS_AVG\n",
      "13/115 YEARS_BEGINEXPLUATATION_AVG\n",
      "14/115 pre_app_REFUSED_CONTRACT_max\n",
      "15/115 bureau_STATUS_OPEN_CT\n",
      "16/115 LATE_PAYMENT\n",
      "17/115 pre_app_AMT_APPLICATION_sum\n",
      "18/115 NONLIVINGAREA_MEDI\n",
      "19/115 APARTMENTS_AVG\n",
      "20/115 REGION_POPULATION_RELATIVE\n",
      "21/115 NONLIVINGAREA_AVG\n",
      "22/115 LIVE_CITY_NOT_WORK_CITY\n",
      "23/115 SK_DPD60+_y\n",
      "24/115 INSUFFICIENT_PAYMENT\n",
      "25/115 bureau_AMT_CREDIT_SUM_OVERDUE\n",
      "26/115 DEF_60_CNT_SOCIAL_CIRCLE\n",
      "27/115 COMMONAREA_MEDI\n",
      "28/115 FLOORSMIN_MEDI\n",
      "29/115 FLOORSMAX_AVG\n",
      "30/115 BASEMENTAREA_MEDI\n",
      "31/115 bureau_AMT_ANNUITY\n",
      "32/115 YEARS_BUILD_MODE\n",
      "33/115 ELEVATORS_AVG\n",
      "34/115 bureau_AMT_CREDIT_SUM_LIMIT\n",
      "35/115 pre_app_REFUSED_CONTRACT_sum\n",
      "36/115 LIVINGAREA_MODE\n",
      "37/115 AMT_INCOME_TOTAL\n",
      "38/115 AMT_REQ_CREDIT_BUREAU_MON\n",
      "39/115 LANDAREA_MODE\n",
      "40/115 YEARS_BEGINEXPLUATATION_MEDI\n",
      "41/115 FLAG_DOCUMENT_8\n",
      "42/115 ENTRANCES_MODE\n",
      "43/115 DEF_30_CNT_SOCIAL_CIRCLE\n",
      "44/115 AMT_GOODS_PRICE\n",
      "45/115 REG_CITY_NOT_WORK_CITY\n",
      "46/115 HOUR_APPR_PROCESS_START\n",
      "47/115 bureau_CREDIT_CLOSED_SUM\n",
      "48/115 OBS_30_CNT_SOCIAL_CIRCLE\n",
      "49/115 FLOORSMAX_MEDI\n",
      "50/115 FLAG_DOCUMENT_6\n",
      "51/115 AMT_ANNUITY\n",
      "52/115 NONLIVINGAPARTMENTS_MEDI\n",
      "53/115 pre_app_SK_ID_PREV_count\n",
      "54/115 NONLIVINGAPARTMENTS_MODE\n",
      "55/115 BASEMENTAREA_MODE\n",
      "56/115 bureau_CNT_CREDIT_PROLONG_SUM\n",
      "57/115 ELEVATORS_MEDI\n",
      "58/115 AMT_CREDIT\n",
      "59/115 FLOORSMIN_MODE\n",
      "60/115 UTILIZATION\n",
      "61/115 pre_app_AMT_DOWN_PAYMENT_sum\n",
      "62/115 OBS_60_CNT_SOCIAL_CIRCLE\n",
      "63/115 pre_app_DAYS_FIRST_DUE_max\n",
      "64/115 LIVINGAPARTMENTS_MODE\n",
      "65/115 REG_REGION_NOT_WORK_REGION\n",
      "66/115 COMMONAREA_MODE\n",
      "67/115 CNT_FAM_MEMBERS\n",
      "68/115 FLAG_DOCUMENT_5\n",
      "69/115 pre_app_AMT_ANNUITY_sum\n",
      "70/115 AMT_REQ_CREDIT_BUREAU_QRT\n",
      "71/115 FLAG_PHONE\n",
      "72/115 LANDAREA_AVG\n",
      "73/115 ELEVATORS_MODE\n",
      "74/115 FLAG_DOCUMENT_3\n",
      "75/115 pre_app_NAME_CASH_LOAN_PURPOSE_nunique\n",
      "76/115 YEARS_BUILD_MEDI\n",
      "77/115 REG_REGION_NOT_LIVE_REGION\n",
      "78/115 pre_app_NFLAG_INSURED_ON_APPROVAL_max\n",
      "79/115 TOTALAREA_MODE\n",
      "80/115 LANDAREA_MEDI\n",
      "81/115 YEARS_BEGINEXPLUATATION_MODE\n",
      "82/115 bureau_AMT_CREDIT_SUM\n",
      "83/115 pre_app_NAME_PAYMENT_TYPE_nunique\n",
      "84/115 pre_app_NAME_CONTRACT_TYPE_nunique\n",
      "85/115 bureau_DAYS_CREDIT_MAX\n",
      "86/115 bureau_FLAG_DPD60\n",
      "87/115 pre_app_RATE_DOWN_PAYMENT_max\n",
      "88/115 FLAG_WORK_PHONE\n",
      "89/115 NAME_CONTRACT_STATUS_C_x\n",
      "90/115 NONLIVINGAREA_MODE\n",
      "91/115 YEARS_BUILD_AVG\n",
      "92/115 pre_app_AMT_CREDIT_sum\n",
      "93/115 LIVINGAREA_AVG\n",
      "94/115 DAYS_REGISTRATION\n",
      "95/115 NAME_CONTRACT_STATUS_C_y\n",
      "96/115 bureau_CREDIT_DAY_OVERDUE_MAX\n",
      "97/115 LIVINGAPARTMENTS_MEDI\n",
      "98/115 REGION_RATING_CLIENT_W_CITY\n",
      "99/115 FLAG_EMAIL\n",
      "100/115 CNT_CHILDREN\n",
      "101/115 bureau_AMT_CREDIT_SUM_DEBT\n",
      "102/115 DAYS_EMPLOYED\n",
      "103/115 bureau_AMT_CREDIT_MAX_OVERDUE_MAX\n",
      "104/115 APARTMENTS_MEDI\n",
      "105/115 APARTMENTS_MODE\n",
      "106/115 AMT_REQ_CREDIT_BUREAU_WEEK\n",
      "107/115 bureau_CREDIT_CT\n",
      "108/115 COMMONAREA_AVG\n",
      "109/115 NONLIVINGAPARTMENTS_AVG\n",
      "110/115 ENTRANCES_MEDI\n",
      "111/115 LIVINGAREA_MEDI\n",
      "112/115 LIVE_REGION_NOT_WORK_REGION\n",
      "113/115 DAYS_ID_PUBLISH\n",
      "114/115 OWN_CAR_AGE\n",
      "115/115 FLOORSMAX_MODE\n"
     ]
    }
   ],
   "source": [
    "## Apply WOE transformation to numerical variables\n",
    "# WoE(number_of_buckets, min_num_of_observation_in_bucket, 'd'_for_continous_var, 'b'_for_binary_target_var)\n",
    "numeric_woe = WOE.WoE(21, 51, v_type='c', t_type='b')\n",
    "\n",
    "dict_woe = {}\n",
    "i = 1\n",
    "for col in var_num:\n",
    "    print (str(i)+\"/\"+str(len(var_num)), col)\n",
    "    i += 1\n",
    "    woe_temp = numeric_woe.tree(df_model[col], df_model[var_y])\n",
    "    dict_woe[col] = woe_temp\n",
    "    df_model[col] = woe_temp.df.woe"
   ]
  },
  {
   "cell_type": "code",
   "execution_count": 8,
   "metadata": {
    "id": "IJ0f3CuAOQpZ",
    "outputId": "de0d6823-2dd8-46ac-c6c5-3ee29c377b61",
    "scrolled": true
   },
   "outputs": [
    {
     "name": "stdout",
     "output_type": "stream",
     "text": [
      "1/16 NAME_CONTRACT_TYPE\n",
      "2/16 CODE_GENDER\n",
      "3/16 FLAG_OWN_CAR\n",
      "4/16 FLAG_OWN_REALTY\n",
      "5/16 NAME_TYPE_SUITE\n",
      "6/16 NAME_INCOME_TYPE\n",
      "7/16 NAME_EDUCATION_TYPE\n",
      "8/16 NAME_FAMILY_STATUS\n",
      "9/16 NAME_HOUSING_TYPE\n",
      "10/16 OCCUPATION_TYPE\n",
      "11/16 WEEKDAY_APPR_PROCESS_START\n",
      "12/16 ORGANIZATION_TYPE\n",
      "13/16 FONDKAPREMONT_MODE\n",
      "14/16 HOUSETYPE_MODE\n",
      "15/16 WALLSMATERIAL_MODE\n",
      "16/16 EMERGENCYSTATE_MODE\n"
     ]
    }
   ],
   "source": [
    "## Apply WOE transformation to categorical variables\n",
    "# WoE(number_of_buckets, min_num_of_observation_in_bucket, 'd'_for_continous_var, 'b'_for_binary_target_var)\n",
    "class_woe = WOE.WoE(21, 51, v_type='d', t_type='b')\n",
    "\n",
    "dict_woe = {}\n",
    "i = 1\n",
    "for col in var_cat:\n",
    "    print (str(i)+\"/\"+str(len(var_cat)), col)\n",
    "    i += 1\n",
    "    woe_temp = class_woe.categorical(df_model[col], df_model[var_y])\n",
    "    dict_woe[col] = woe_temp\n",
    "    df_model[col] = woe_temp.df.woe"
   ]
  },
  {
   "cell_type": "markdown",
   "metadata": {
    "id": "L26QgeuVOQpc"
   },
   "source": [
    "## VR.3 Drop low Important Var (RF)"
   ]
  },
  {
   "cell_type": "code",
   "execution_count": 9,
   "metadata": {
    "id": "Ncdj6XviOQpd",
    "outputId": "c885e31f-cea7-4da7-9cdb-5a167bb11c64"
   },
   "outputs": [
    {
     "name": "stdout",
     "output_type": "stream",
     "text": [
      "X_train Shape: (206032, 131)\n",
      "y_train Shape: (206032,)\n",
      "X_test Shape: (101479, 131)\n",
      "y_test Shape: (101479,)\n"
     ]
    }
   ],
   "source": [
    "## Train & Test Split\n",
    "X_train, X_test, y_train, y_test = train_test_split(df_model[var_x], df_model[var_y], test_size=0.33, random_state=66)\n",
    "\n",
    "print (\"X_train Shape: \" + str(X_train.shape))\n",
    "print (\"y_train Shape: \" + str(y_train.shape))\n",
    "print (\"X_test Shape: \" + str(X_test.shape))\n",
    "print (\"y_test Shape: \" + str(y_test.shape))"
   ]
  },
  {
   "cell_type": "code",
   "execution_count": 10,
   "metadata": {
    "id": "iyzb0l8dOQpg",
    "outputId": "04469b1a-51aa-4c7c-9939-f30c0fb8d9fb"
   },
   "outputs": [
    {
     "name": "stdout",
     "output_type": "stream",
     "text": [
      "#### Parameters for RF ####\n",
      "n estimators: 100\n",
      "max features: 0.8\n",
      "max depth: 50\n",
      "min sample split: 100.00000\n",
      "min sample leaf: 50.00000\n",
      "min_impurity_decrease: 0.00000\n",
      "###########################\n",
      "\n"
     ]
    },
    {
     "data": {
      "image/png": "[encoded data removed]",
      "text/plain": [
       "<Figure size 432x720 with 1 Axes>"
      ]
     },
     "metadata": {
      "needs_background": "light"
     },
     "output_type": "display_data"
    },
    {
     "name": "stdout",
     "output_type": "stream",
     "text": [
      "time elapsed: 176.5530984401703 seconds\n"
     ]
    },
    {
     "data": {
      "image/png": "[encoded data removed]",
      "text/plain": [
       "<Figure size 432x288 with 1 Axes>"
      ]
     },
     "metadata": {
      "needs_background": "light"
     },
     "output_type": "display_data"
    }
   ],
   "source": [
    "# Variable Reduction - Random Forest\n",
    "model_rf, df_importance_rf, time_rf  = MLM.my_sklearn_rf(X_train, y_train, param = {\"n_estimators\":100,\n",
    "                                                                                    \"max_features\":0.8,\n",
    "                                                                                    \"max_depth\":50,\n",
    "                                                                                    \"min_samples_split\":100,\n",
    "                                                                                    \"min_samples_leaf\":50,\n",
    "                                                                                    \"min_impurity_decrease\":0,\n",
    "                                                                                    \"random_state\":66})\n",
    "\n",
    "ls_roc_rf = SF.plot_roc(model_rf, X_train, X_test, y_train, y_test)"
   ]
  },
  {
   "cell_type": "code",
   "execution_count": 11,
   "metadata": {
    "id": "Th2Urc75OQpj",
    "outputId": "fc13eec1-136c-49ed-e683-b4cdd57272ad"
   },
   "outputs": [
    {
     "data": {
      "image/png": "[encoded data removed]",
      "text/plain": [
       "<Figure size 1080x432 with 1 Axes>"
      ]
     },
     "metadata": {
      "needs_background": "light"
     },
     "output_type": "display_data"
    }
   ],
   "source": [
    "# plot the distribution\n",
    "df_importance_rf['importance_pctg'] = df_importance_rf['importance'] * 1.0 / df_importance_rf['importance'].max()\n",
    "SF.distribution_analysis_histo(df_importance_rf, 'importance_pctg')"
   ]
  },
  {
   "cell_type": "code",
   "execution_count": 12,
   "metadata": {
    "id": "7qQGwy2MOQpm",
    "outputId": "2edd0162-b035-461b-bd2f-d93ea96fab59"
   },
   "outputs": [
    {
     "name": "stdout",
     "output_type": "stream",
     "text": [
      "# of columns dropped: 2\n",
      "# of columns left: 129\n"
     ]
    }
   ],
   "source": [
    "var_x = df_importance_rf.loc[df_importance_rf['importance_pctg'] > 0.003, 'feature'].tolist()\n",
    "\n",
    "print (\"# of columns dropped: \" + str(df_importance_rf.shape[0] - len(var_x)))\n",
    "print (\"# of columns left: \" + str(len(var_x)))\n",
    "\n",
    "df_importance_rf.to_csv(os.path.split(os.getcwd())[0] + \"\\\\3. Output\\\\Variable Selection\\\\df_importance_rf_basic.csv\", index=False)"
   ]
  },
  {
   "cell_type": "markdown",
   "metadata": {
    "id": "wgXi481eOQpp"
   },
   "source": [
    "## VR.4 Calculate Information Value (IV) & Drop Low IV Var"
   ]
  },
  {
   "cell_type": "code",
   "execution_count": 13,
   "metadata": {
    "id": "SbSdMlKxOQpq",
    "outputId": "2d55ae78-9ad9-429d-b99d-34cc90680730",
    "scrolled": true
   },
   "outputs": [
    {
     "name": "stdout",
     "output_type": "stream",
     "text": [
      "1/129 OCCUPATION_TYPE\n",
      "2/129 UTILIZATION\n",
      "3/129 ORGANIZATION_TYPE\n",
      "4/129 bureau_DAYS_CREDIT_MAX\n",
      "5/129 WEEKDAY_APPR_PROCESS_START\n",
      "6/129 DAYS_BIRTH\n",
      "7/129 NAME_EDUCATION_TYPE\n",
      "8/129 DAYS_LAST_PHONE_CHANGE\n",
      "9/129 bureau_AMT_CREDIT_MAX_OVERDUE_MAX\n",
      "10/129 pre_app_RATE_DOWN_PAYMENT_max\n",
      "11/129 CODE_GENDER\n",
      "12/129 NAME_FAMILY_STATUS\n",
      "13/129 pre_app_AMT_DOWN_PAYMENT_sum\n",
      "14/129 pre_app_REFUSED_CONTRACT_sum\n",
      "15/129 pre_app_REFUSED_CONTRACT_max\n",
      "16/129 bureau_CREDIT_CLOSED_SUM\n",
      "17/129 INSUFFICIENT_PAYMENT\n",
      "18/129 DAYS_EMPLOYED\n",
      "19/129 NAME_CONTRACT_STATUS_C_x\n",
      "20/129 DAYS_ID_PUBLISH\n",
      "21/129 REGION_RATING_CLIENT_W_CITY\n",
      "22/129 LATE_PAYMENT\n",
      "23/129 NAME_INCOME_TYPE\n",
      "24/129 FLAG_OWN_CAR\n",
      "25/129 FLAG_DOCUMENT_3\n",
      "26/129 AMT_GOODS_PRICE\n",
      "27/129 pre_app_NFLAG_INSURED_ON_APPROVAL_max\n",
      "28/129 WALLSMATERIAL_MODE\n",
      "29/129 bureau_AMT_CREDIT_SUM_LIMIT\n",
      "30/129 REGION_RATING_CLIENT\n",
      "31/129 OWN_CAR_AGE\n",
      "32/129 AMT_REQ_CREDIT_BUREAU_YEAR\n",
      "33/129 FLAG_OWN_REALTY\n",
      "34/129 pre_app_NAME_PAYMENT_TYPE_nunique\n",
      "35/129 bureau_AMT_ANNUITY\n",
      "36/129 DAYS_REGISTRATION\n",
      "37/129 REG_CITY_NOT_WORK_CITY\n",
      "38/129 bureau_AMT_CREDIT_SUM_DEBT\n",
      "39/129 pre_app_AMT_ANNUITY_sum\n",
      "40/129 CNT_CHILDREN\n",
      "41/129 FLAG_WORK_PHONE\n",
      "42/129 REG_CITY_NOT_LIVE_CITY\n",
      "43/129 CNT_FAM_MEMBERS\n",
      "44/129 bureau_FLAG_DPD60\n",
      "45/129 pre_app_NAME_CASH_LOAN_PURPOSE_nunique\n",
      "46/129 bureau_AMT_CREDIT_SUM\n",
      "47/129 FLAG_PHONE\n",
      "48/129 NAME_HOUSING_TYPE\n",
      "49/129 pre_app_NAME_CONTRACT_TYPE_nunique\n",
      "50/129 DEF_30_CNT_SOCIAL_CIRCLE\n",
      "51/129 HOUR_APPR_PROCESS_START\n",
      "52/129 REGION_POPULATION_RELATIVE\n",
      "53/129 TOTALAREA_MODE\n",
      "54/129 LIVE_CITY_NOT_WORK_CITY\n",
      "55/129 NAME_TYPE_SUITE\n",
      "56/129 bureau_STATUS_OPEN_CT\n",
      "57/129 DEF_60_CNT_SOCIAL_CIRCLE\n",
      "58/129 NAME_CONTRACT_STATUS_C_y\n",
      "59/129 SK_DPD60+_y\n",
      "60/129 AMT_REQ_CREDIT_BUREAU_QRT\n",
      "61/129 pre_app_AMT_CREDIT_sum\n",
      "62/129 EMERGENCYSTATE_MODE\n",
      "63/129 ENTRANCES_MODE\n",
      "64/129 FONDKAPREMONT_MODE\n",
      "65/129 pre_app_DAYS_FIRST_DUE_max\n",
      "66/129 NAME_CONTRACT_TYPE\n",
      "67/129 OBS_60_CNT_SOCIAL_CIRCLE\n",
      "68/129 HOUSETYPE_MODE\n",
      "69/129 AMT_CREDIT\n",
      "70/129 ENTRANCES_AVG\n",
      "71/129 bureau_CREDIT_DAY_OVERDUE_MAX\n",
      "72/129 APARTMENTS_MODE\n",
      "73/129 LANDAREA_MEDI\n",
      "74/129 bureau_CREDIT_CT\n",
      "75/129 pre_app_PRODUCT_COMBINATION_nunique\n",
      "76/129 LANDAREA_AVG\n",
      "77/129 pre_app_SK_ID_PREV_count\n",
      "78/129 LIVINGAREA_MODE\n",
      "79/129 ENTRANCES_MEDI\n",
      "80/129 pre_app_AMT_GOODS_PRICE_sum\n",
      "81/129 APARTMENTS_AVG\n",
      "82/129 bureau_AMT_CREDIT_SUM_OVERDUE\n",
      "83/129 LIVINGAREA_AVG\n",
      "84/129 pre_app_AMT_APPLICATION_sum\n",
      "85/129 LIVINGAREA_MEDI\n",
      "86/129 ELEVATORS_AVG\n",
      "87/129 AMT_INCOME_TOTAL\n",
      "88/129 OBS_30_CNT_SOCIAL_CIRCLE\n",
      "89/129 bureau_CNT_CREDIT_PROLONG_SUM\n",
      "90/129 APARTMENTS_MEDI\n",
      "91/129 LANDAREA_MODE\n",
      "92/129 ELEVATORS_MEDI\n",
      "93/129 ELEVATORS_MODE\n",
      "94/129 FLOORSMAX_AVG\n",
      "95/129 LIVINGAPARTMENTS_MODE\n",
      "96/129 BASEMENTAREA_AVG\n",
      "97/129 NONLIVINGAREA_MODE\n",
      "98/129 AMT_ANNUITY\n",
      "99/129 LIVINGAPARTMENTS_MEDI\n",
      "100/129 FLAG_DOCUMENT_6\n",
      "101/129 BASEMENTAREA_MEDI\n",
      "102/129 LIVINGAPARTMENTS_AVG\n",
      "103/129 BASEMENTAREA_MODE\n",
      "104/129 FLOORSMAX_MEDI\n",
      "105/129 FLOORSMAX_MODE\n",
      "106/129 NONLIVINGAREA_MEDI\n",
      "107/129 FLAG_DOCUMENT_8\n",
      "108/129 NONLIVINGAREA_AVG\n",
      "109/129 FLAG_EMAIL\n",
      "110/129 YEARS_BUILD_MEDI\n",
      "111/129 YEARS_BEGINEXPLUATATION_MODE\n",
      "112/129 FLOORSMIN_MEDI\n",
      "113/129 FLOORSMIN_AVG\n",
      "114/129 FLAG_EMP_PHONE\n",
      "115/129 YEARS_BEGINEXPLUATATION_AVG\n",
      "116/129 COMMONAREA_MODE\n",
      "117/129 YEARS_BEGINEXPLUATATION_MEDI\n",
      "118/129 YEARS_BUILD_MODE\n",
      "119/129 REG_REGION_NOT_WORK_REGION\n",
      "120/129 FLOORSMIN_MODE\n",
      "121/129 YEARS_BUILD_AVG\n",
      "122/129 COMMONAREA_AVG\n",
      "123/129 COMMONAREA_MEDI\n",
      "124/129 AMT_REQ_CREDIT_BUREAU_WEEK\n",
      "125/129 NONLIVINGAPARTMENTS_AVG\n",
      "126/129 NONLIVINGAPARTMENTS_MODE\n",
      "127/129 NONLIVINGAPARTMENTS_MEDI\n",
      "128/129 LIVE_REGION_NOT_WORK_REGION\n",
      "129/129 AMT_REQ_CREDIT_BUREAU_MON\n"
     ]
    }
   ],
   "source": [
    "var_num = list(set(var_x) - set(var_cat))\n",
    "var_y = 'TARGET'\n",
    "\n",
    "class_woe = WOE.WoE(21, 51, v_type='c', t_type='b')\n",
    "\n",
    "df_iv = pd.DataFrame(columns=['feature', 'iv'])\n",
    "\n",
    "i = 1\n",
    "for var in var_x:\n",
    "    print (str(i)+\"/\"+str(len(var_x)), var)\n",
    "    i +=1\n",
    "    \n",
    "    if var in var_cat: # categorical vars\n",
    "        df_temp = np.array([var, dict_woe[var].iv])\n",
    "        df_iv.loc[len(df_iv)] = df_temp\n",
    "        \n",
    "    if var in var_num: # numeric vars\n",
    "        df_temp = np.array([var, class_woe.tree(df_model[var], df_model[var_y]).iv])\n",
    "        df_iv.loc[len(df_iv)] = df_temp\n",
    "    \n",
    "df_iv['iv'] = df_iv['iv'].astype(float)\n",
    "\n",
    "df_iv.to_csv(os.path.split(os.getcwd())[0] + \"\\\\3. Output\\\\Variable Selection\\\\df_iv_basic.csv\", index=False)"
   ]
  },
  {
   "cell_type": "code",
   "execution_count": 14,
   "metadata": {
    "id": "Ar64nCxVOQpt",
    "outputId": "5a16a251-0dbc-4783-fccf-49a6adac9c3f",
    "scrolled": false
   },
   "outputs": [
    {
     "data": {
      "image/png": "[encoded data removed]",
      "text/plain": [
       "<Figure size 1080x432 with 1 Axes>"
      ]
     },
     "metadata": {
      "needs_background": "light"
     },
     "output_type": "display_data"
    }
   ],
   "source": [
    "# check distribution\n",
    "df_iv_temp = df_iv[(df_iv['feature'].isin(var_x))]\n",
    "SF.distribution_analysis_histo(df_iv_temp, 'iv')"
   ]
  },
  {
   "cell_type": "code",
   "execution_count": 15,
   "metadata": {
    "id": "jX3ZQzCkOQpw",
    "outputId": "424154a8-1309-4cf3-ea98-884623c21a1a"
   },
   "outputs": [
    {
     "name": "stdout",
     "output_type": "stream",
     "text": [
      "# of columns dropped: 23\n",
      "# of columns left: 106\n"
     ]
    }
   ],
   "source": [
    "# drop low LV var\n",
    "thrd = 0.01\n",
    "df_iv = df_iv_temp[df_iv['iv'] >= thrd]\n",
    "var_x = df_iv.feature.unique().tolist()\n",
    "\n",
    "print (\"# of columns dropped: \" + str(len(df_iv_temp['feature']) - len(df_iv['feature'])))\n",
    "print (\"# of columns left: \" + str(len(df_iv['feature'])))"
   ]
  },
  {
   "cell_type": "markdown",
   "metadata": {
    "id": "-AwP9rQHOQpy"
   },
   "source": [
    "## VR.5 Drop Highly Correlated Var"
   ]
  },
  {
   "cell_type": "code",
   "execution_count": 16,
   "metadata": {
    "id": "oNA1ZWKdOQpz",
    "outputId": "0de04186-f3e5-490d-e1f2-7b1a80522140"
   },
   "outputs": [
    {
     "name": "stdout",
     "output_type": "stream",
     "text": [
      "time elapsed: 13.107153177261353 seconds\n",
      "# of columns dropped: 73\n",
      "# of columns left: 70\n"
     ]
    },
    {
     "name": "stderr",
     "output_type": "stream",
     "text": [
      "C:\\Users\\QY742WL\\AppData\\Local\\Continuum\\anaconda3\\lib\\site-packages\\ipykernel_launcher.py:15: SettingWithCopyWarning: \n",
      "A value is trying to be set on a copy of a slice from a DataFrame.\n",
      "Try using .loc[row_indexer,col_indexer] = value instead\n",
      "\n",
      "See the caveats in the documentation: http://pandas.pydata.org/pandas-docs/stable/user_guide/indexing.html#returning-a-view-versus-a-copy\n",
      "  from ipykernel import kernelapp as app\n"
     ]
    }
   ],
   "source": [
    "# my_corr(data_frame, method_can_be_pearson_kendall_spearman, if_true_then_remove_negative_signs)\n",
    "# calculate the correlation coefficient for all possible pairs\n",
    "corr = SF.my_corr(df_model[var_x], 'pearson', abs=True)\n",
    "\n",
    "corr = pd.merge(corr, df_iv, how='left', left_on='var1', right_on='feature')\n",
    "corr = pd.merge(corr, df_iv, how='left', left_on='var2', right_on='feature')\n",
    "\n",
    "corr = corr.rename(columns={\"iv_x\":\"iv_var1\", \"iv_y\":\"iv_var2\"})\n",
    "corr = corr[['var1', 'iv_var1', 'var2', 'iv_var2', 'corr']]\n",
    "\n",
    "corr.to_csv(os.path.split(os.getcwd())[0] + \"\\\\3. Output\\\\Variable Selection\\\\df_corr_basic.csv\", index=False)\n",
    "\n",
    "# drop lower information value\n",
    "df_temp = corr[corr['corr'] > 0.9]\n",
    "df_temp['to_drop'] = np.where(df_temp['iv_var1'] >= df_temp['iv_var2'], df_temp['var2'], df_temp['var1'])\n",
    "\n",
    "# remove highly correlated vars\n",
    "for var in df_temp['to_drop'].unique():\n",
    "    var_x.remove(var)\n",
    "\n",
    "print (\"# of columns dropped: \" + str(len(df_temp['to_drop'])))\n",
    "print (\"# of columns left: \" + str(len(var_x)))"
   ]
  },
  {
   "cell_type": "markdown",
   "metadata": {
    "id": "7yjesL1rOQp3"
   },
   "source": [
    "## VR.6 Drop Through Clustering Analysis (optional)"
   ]
  },
  {
   "cell_type": "code",
   "execution_count": 17,
   "metadata": {
    "id": "RdWp86cVOQp4",
    "outputId": "565fe4c3-b476-43d6-8da5-9bacd90c76ea",
    "scrolled": true
   },
   "outputs": [
    {
     "data": {
      "text/html": [
       "<div>\n",
       "<style scoped>\n",
       "    .dataframe tbody tr th:only-of-type {\n",
       "        vertical-align: middle;\n",
       "    }\n",
       "\n",
       "    .dataframe tbody tr th {\n",
       "        vertical-align: top;\n",
       "    }\n",
       "\n",
       "    .dataframe thead th {\n",
       "        text-align: right;\n",
       "    }\n",
       "</style>\n",
       "<table border=\"1\" class=\"dataframe\">\n",
       "  <thead>\n",
       "    <tr style=\"text-align: right;\">\n",
       "      <th></th>\n",
       "      <th>feature</th>\n",
       "      <th>ward_cluster</th>\n",
       "      <th>mann_cluster</th>\n",
       "    </tr>\n",
       "  </thead>\n",
       "  <tbody>\n",
       "    <tr>\n",
       "      <td>0</td>\n",
       "      <td>OCCUPATION_TYPE</td>\n",
       "      <td>17</td>\n",
       "      <td>23</td>\n",
       "    </tr>\n",
       "    <tr>\n",
       "      <td>1</td>\n",
       "      <td>UTILIZATION</td>\n",
       "      <td>15</td>\n",
       "      <td>17</td>\n",
       "    </tr>\n",
       "    <tr>\n",
       "      <td>2</td>\n",
       "      <td>ORGANIZATION_TYPE</td>\n",
       "      <td>19</td>\n",
       "      <td>21</td>\n",
       "    </tr>\n",
       "    <tr>\n",
       "      <td>3</td>\n",
       "      <td>bureau_DAYS_CREDIT_MAX</td>\n",
       "      <td>21</td>\n",
       "      <td>29</td>\n",
       "    </tr>\n",
       "    <tr>\n",
       "      <td>4</td>\n",
       "      <td>WEEKDAY_APPR_PROCESS_START</td>\n",
       "      <td>2</td>\n",
       "      <td>6</td>\n",
       "    </tr>\n",
       "    <tr>\n",
       "      <td>...</td>\n",
       "      <td>...</td>\n",
       "      <td>...</td>\n",
       "      <td>...</td>\n",
       "    </tr>\n",
       "    <tr>\n",
       "      <td>65</td>\n",
       "      <td>FLOORSMIN_AVG</td>\n",
       "      <td>8</td>\n",
       "      <td>12</td>\n",
       "    </tr>\n",
       "    <tr>\n",
       "      <td>66</td>\n",
       "      <td>FLAG_EMP_PHONE</td>\n",
       "      <td>11</td>\n",
       "      <td>7</td>\n",
       "    </tr>\n",
       "    <tr>\n",
       "      <td>67</td>\n",
       "      <td>COMMONAREA_MODE</td>\n",
       "      <td>8</td>\n",
       "      <td>12</td>\n",
       "    </tr>\n",
       "    <tr>\n",
       "      <td>68</td>\n",
       "      <td>AMT_REQ_CREDIT_BUREAU_WEEK</td>\n",
       "      <td>0</td>\n",
       "      <td>3</td>\n",
       "    </tr>\n",
       "    <tr>\n",
       "      <td>69</td>\n",
       "      <td>NONLIVINGAPARTMENTS_AVG</td>\n",
       "      <td>8</td>\n",
       "      <td>12</td>\n",
       "    </tr>\n",
       "  </tbody>\n",
       "</table>\n",
       "<p>70 rows × 3 columns</p>\n",
       "</div>"
      ],
      "text/plain": [
       "                       feature  ward_cluster  mann_cluster\n",
       "0              OCCUPATION_TYPE            17            23\n",
       "1                  UTILIZATION            15            17\n",
       "2            ORGANIZATION_TYPE            19            21\n",
       "3       bureau_DAYS_CREDIT_MAX            21            29\n",
       "4   WEEKDAY_APPR_PROCESS_START             2             6\n",
       "..                         ...           ...           ...\n",
       "65               FLOORSMIN_AVG             8            12\n",
       "66              FLAG_EMP_PHONE            11             7\n",
       "67             COMMONAREA_MODE             8            12\n",
       "68  AMT_REQ_CREDIT_BUREAU_WEEK             0             3\n",
       "69     NONLIVINGAPARTMENTS_AVG             8            12\n",
       "\n",
       "[70 rows x 3 columns]"
      ]
     },
     "execution_count": 17,
     "metadata": {},
     "output_type": "execute_result"
    }
   ],
   "source": [
    "n_final_vars = 30\n",
    "\n",
    "# cluster_analysis(data_frame, target_variable, variables_that_need_clustering, num_of_clusters)\n",
    "# Use Ward and Mann clustering to cluster the variables in order to reduce dimensions\n",
    "df_cluster = SF.cluster_analysis(df_model, var_y='TARGET', var_x=var_x, num_of_clusters=n_final_vars)\n",
    "df_cluster.to_csv(os.path.split(os.getcwd())[0] + \"\\\\3. Output\\\\Variable Selection\\\\df_cluster_basic.csv\", index=False)\n",
    "\n",
    "# please manually select final variables\n",
    "df_cluster"
   ]
  },
  {
   "cell_type": "markdown",
   "metadata": {
    "id": "0eQhyslWOQp6"
   },
   "source": [
    "# Output"
   ]
  },
  {
   "cell_type": "code",
   "execution_count": 18,
   "metadata": {
    "id": "9_yeGjuwOQp7"
   },
   "outputs": [],
   "source": [
    "df_model[var_x + ['SK_ID_CURR', 'TARGET']].to_csv(os.path.split(os.getcwd())[0] + \"\\\\3. Output\\\\Intermediate Data\\\\modeling_ds_v2.csv\", index=False)"
   ]
  }
 ],
 "metadata": {
  "colab": {
   "name": "HomeCreditDefaultRisk - 03 Variable Selection.ipynb",
   "provenance": []
  },
  "kernelspec": {
   "display_name": "Python 3",
   "language": "python",
   "name": "python3"
  },
  "language_info": {
   "codemirror_mode": {
    "name": "ipython",
    "version": 3
   },
   "file_extension": ".py",
   "mimetype": "text/x-python",
   "name": "python",
   "nbconvert_exporter": "python",
   "pygments_lexer": "ipython3",
   "version": "3.7.4"
  }
 },
 "nbformat": 4,
 "nbformat_minor": 1
}
