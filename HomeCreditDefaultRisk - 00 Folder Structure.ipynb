{
 "cells": [
  {
   "cell_type": "markdown",
   "metadata": {
    "id": "LOZTDdfse4E1"
   },
   "source": [
    "# Summary"
   ]
  },
  {
   "cell_type": "markdown",
   "metadata": {
    "id": "y0ZifkJpe4E5"
   },
   "source": [
    "Before crack into machine learning programming, this session will first navigate you through some basic coding environment setup/check, including: \n",
    "\n",
    "*   Identify on your laptop the location where you're going run all machine learning excercise scripts\n",
    "*   Check the file sturecture in your folder and make sure all files you need are there already\n",
    "\n",
    "Main functions covered in this page:\n",
    "\n",
    "\n",
    "*   os.getcwd() function: identify the location (the full directory) where you're currently running your code\n",
    "*   os.path.isdir: check the folder(its directory) on your laptop to see whether it was created already\n",
    "*   os.mkdir() function: create folder after you verify it does not exist on your laptop\n",
    "\n",
    "\n",
    "\n",
    "\n"
   ]
  },
  {
   "cell_type": "markdown",
   "metadata": {
    "id": "P9kNiKvle4E7"
   },
   "source": [
    "# Load Libraries"
   ]
  },
  {
   "cell_type": "code",
   "execution_count": 1,
   "metadata": {
    "id": "AusDODnCe4FA",
    "outputId": "1377af82-8aa0-40c4-bfe3-2fa19355f978"
   },
   "outputs": [
    {
     "name": "stdout",
     "output_type": "stream",
     "text": [
      "C:\\Users\\wangle\\Desktop\\Training\\ML\\1. Code\n",
      "C:\\Users\\wangle\\Desktop\\Training\\ML\n"
     ]
    }
   ],
   "source": [
    "## system config ##\n",
    "# Note: only run this section once when you open the script. Otherwise the folder structure maybe messed up.\n",
    "\n",
    "import sys\n",
    "import os\n",
    "\n",
    "# check current directory\n",
    "print (os.getcwd())\n",
    "\n",
    "# return to the root folder\n",
    "os.chdir(os.path.split(os.getcwd())[0])\n",
    "\n",
    "# check final directory\n",
    "print (os.getcwd())"
   ]
  },
  {
   "cell_type": "markdown",
   "metadata": {
    "id": "S03fApmge4FS"
   },
   "source": [
    "# Check folder structure"
   ]
  },
  {
   "cell_type": "code",
   "execution_count": 2,
   "metadata": {
    "id": "PHYkO9Cwe4FT"
   },
   "outputs": [],
   "source": [
    "# 1. Code\n",
    "if not os.path.isdir('1. Code'):\n",
    "    os.mkdir('1. Code')\n",
    "    print (\"Folder <1. Code> does not exist. A new one is created\")\n",
    "    \n",
    "if not os.path.isdir('1. Code\\\\Self-defined Modules'):\n",
    "    os.mkdir('1. Code\\\\Self-defined Modules')\n",
    "    print (\"Folder <1. Code\\\\Self-defined Modules> does not exist. A new one is created\")\n",
    "    \n",
    "# 2. Sample\n",
    "if not os.path.isdir('2. Data'):\n",
    "    os.mkdir('2. Data')\n",
    "    print (\"Folder <2. Data> does not exist. A new one is created\")\n",
    "\n",
    "if not os.path.isdir('2. Data\\\\Sample'):\n",
    "    os.mkdir('2. Data\\\\Sample')\n",
    "    print (\"Folder <2. Data\\\\Sample> does not exist. A new one is created\")\n",
    "\n",
    "# 3. Output\n",
    "if not os.path.isdir('3. Output'):\n",
    "    os.mkdir('3. Output')\n",
    "    print (\"Folder <3. Output> does not exist. A new one is created\")\n",
    "\n",
    "if not os.path.isdir('3. Output\\\\EDA'):\n",
    "    os.mkdir('3. Output\\\\EDA')\n",
    "    print (\"Folder <3. Output\\\\EDA> does not exist. A new one is created\")\n",
    "     \n",
    "if not os.path.isdir('3. Output\\\\Model'):\n",
    "    os.mkdir('3. Output\\\\Model')\n",
    "    print (\"Folder <3. Output\\\\Model> does not exist. A new one is created\")\n",
    "\n",
    "if not os.path.isdir('3. Output\\\\Variable Selection'):\n",
    "    os.mkdir('3. Output\\\\Variable Selection')\n",
    "    print (\"Folder <3. Output\\\\Variable Selection> does not exist. A new one is created\")\n",
    "\n",
    "if not os.path.isdir('3. Output\\\\Intermediate Data'):\n",
    "    os.mkdir('3. Output\\\\Intermediate Data')\n",
    "    print (\"Folder <3. Output\\\\Intermediate Data> does not exist. A new one is created\")"
   ]
  }
 ],
 "metadata": {
  "colab": {
   "name": "HomeCreditDefaultRisk - 00 Folder Structure.ipynb",
   "provenance": []
  },
  "kernelspec": {
   "display_name": "Python 3",
   "language": "python",
   "name": "python3"
  },
  "language_info": {
   "codemirror_mode": {
    "name": "ipython",
    "version": 3
   },
   "file_extension": ".py",
   "mimetype": "text/x-python",
   "name": "python",
   "nbconvert_exporter": "python",
   "pygments_lexer": "ipython3",
   "version": "3.7.6"
  }
 },
 "nbformat": 4,
 "nbformat_minor": 1
}
