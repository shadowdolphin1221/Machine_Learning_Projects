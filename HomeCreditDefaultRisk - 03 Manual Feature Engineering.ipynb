{
 "cells": [
  {
   "cell_type": "markdown",
   "metadata": {},
   "source": [
    "# Summary"
   ]
  },
  {
   "cell_type": "markdown",
   "metadata": {},
   "source": [
    "Feature engineering is the process of using domain knowledge of the data to create features that make machine learning algorithms work. Feature engineering is fundamental to the application of machine learning, and is both difficult and expensive.\n",
    "\n",
    "This section we will cover some steps and methods generally used for feature engineering. Upon the completion of this chapter, you will know:\n",
    "\n",
    "\n",
    "*   How to manually create more features via feature engineering"
   ]
  },
  {
   "cell_type": "markdown",
   "metadata": {},
   "source": [
    "# Load Libraries"
   ]
  },
  {
   "cell_type": "code",
   "execution_count": 1,
   "metadata": {},
   "outputs": [
    {
     "name": "stdout",
     "output_type": "stream",
     "text": [
      "Python 3.7.6 (default, Jan  8 2020, 20:23:39) [MSC v.1916 64 bit (AMD64)]\n"
     ]
    }
   ],
   "source": [
    "## system config ##\n",
    "import sys\n",
    "import os\n",
    "nb_dir = os.path.split(os.getcwd())[0] + \"/\" + os.path.split(os.getcwd())[1] + \"/Self-defined Modules\"\n",
    "sys.path.append(nb_dir) # Add a directory into sys path\n",
    "\n",
    "print ('Python', sys.version)"
   ]
  },
  {
   "cell_type": "code",
   "execution_count": 2,
   "metadata": {},
   "outputs": [],
   "source": [
    "## public libraries ##\n",
    "import numpy as np"
   ]
  },
  {
   "cell_type": "code",
   "execution_count": 3,
   "metadata": {},
   "outputs": [],
   "source": [
    "## self-defined modules ##\n",
    "import SupportingFunctions as SF"
   ]
  },
  {
   "cell_type": "markdown",
   "metadata": {},
   "source": [
    "# Import Data"
   ]
  },
  {
   "cell_type": "markdown",
   "metadata": {},
   "source": [
    "# More Data & More Features"
   ]
  },
  {
   "cell_type": "markdown",
   "metadata": {},
   "source": [
    "## 1 - Bureau data"
   ]
  },
  {
   "cell_type": "code",
   "execution_count": 4,
   "metadata": {},
   "outputs": [
    {
     "name": "stdout",
     "output_type": "stream",
     "text": [
      "time elapsed: 2.4176523685455322 seconds\n",
      "dataframe dimension: (1716428, 17)\n",
      "time elapsed: 6.938809633255005 seconds\n",
      "dataframe dimension: (27299925, 3)\n"
     ]
    }
   ],
   "source": [
    "## data loading ##\n",
    "df_bureau = SF.load_csv(os.path.split(os.getcwd())[0] + \"\\\\2. Data\\\\bureau.csv\")\n",
    "df_bureau_bal = SF.load_csv(os.path.split(os.getcwd())[0] + \"\\\\2. Data\\\\bureau_balance.csv\")"
   ]
  },
  {
   "cell_type": "code",
   "execution_count": 5,
   "metadata": {
    "scrolled": false
   },
   "outputs": [
    {
     "name": "stdout",
     "output_type": "stream",
     "text": [
      "\n",
      "==================================================\n",
      "% left only: 0.0\n",
      "% right only: 0.15694080309093417\n",
      "% merge rate: 0.8430591969090658\n",
      "\n",
      "==================================================\n"
     ]
    }
   ],
   "source": [
    "temp01 = df_bureau_bal[df_bureau_bal['MONTHS_BALANCE'] >= -24].copy() # past 2 years\n",
    "\n",
    "# get past DPD info\n",
    "temp01[\"DPD60+\"] = 0\n",
    "temp01.loc[temp01[\"STATUS\"].isin([\"3\", \"4\", \"5\"]), \"DPD60+\"] = 1\n",
    "temp01_agg = temp01.groupby('SK_ID_BUREAU').agg({'DPD60+':['sum', 'max']}).reset_index() # roll-up\n",
    "temp01_agg.columns = ['SK_ID_BUREAU', 'N_DPD60', 'FLAG_DPD60']\n",
    "\n",
    "# get T0 status (Open/Close)\n",
    "temp02 = temp01.loc[temp01[\"MONTHS_BALANCE\"] == 0, [\"SK_ID_BUREAU\", \"STATUS\"]]\n",
    "temp02.loc[temp02[\"STATUS\"] != \"C\", \"STATUS\"] = \"O\"\n",
    "\n",
    "print (\"\\n\"+\"=\"*50)\n",
    "SF.merge_rate(temp02, temp01_agg, 'SK_ID_BUREAU')\n",
    "print (\"=\"*50)\n",
    "\n",
    "temp03 = temp01[['SK_ID_BUREAU']].drop_duplicates()\n",
    "df_bureau_bal_agg = temp03.merge(temp02, on='SK_ID_BUREAU', how='left').merge(temp01_agg, on='SK_ID_BUREAU', how='left')\n",
    "df_bureau_bal_agg['STATUS'] = df_bureau_bal_agg['STATUS'].fillna('C')"
   ]
  },
  {
   "cell_type": "code",
   "execution_count": 6,
   "metadata": {
    "scrolled": false
   },
   "outputs": [
    {
     "name": "stdout",
     "output_type": "stream",
     "text": [
      "(1716428, 17)\n",
      "(1716428, 1)\n",
      "(305811, 1)\n"
     ]
    }
   ],
   "source": [
    "print (df_bureau.shape)\n",
    "print (df_bureau[['SK_ID_BUREAU']].drop_duplicates().shape)\n",
    "print (df_bureau[['SK_ID_CURR']].drop_duplicates().shape)"
   ]
  },
  {
   "cell_type": "code",
   "execution_count": 7,
   "metadata": {},
   "outputs": [],
   "source": [
    "temp01 = df_bureau.merge(df_bureau_bal_agg, on=[\"SK_ID_BUREAU\"], how=\"left\")\n",
    "\n",
    "temp01[\"CREDIT_CLOSED\"] = 0\n",
    "temp01.loc[temp01[\"CREDIT_ACTIVE\"] == \"Closed\", \"CREDIT_CLOSED\"] = 1\n",
    "\n",
    "temp01[\"CREDIT_BAD\"] = 0\n",
    "temp01.loc[temp01[\"CREDIT_ACTIVE\"] == \"Bad debt\", \"CREDIT_BAD\"] = 1\n",
    "\n",
    "temp01[\"STATUS_OPEN\"] = 0\n",
    "temp01.loc[temp01[\"STATUS\"] == \"O\", \"STATUS_OPEN\"] = 1\n",
    "\n",
    "df_bureau_processed = temp01.groupby(\"SK_ID_CURR\").agg({\"SK_ID_BUREAU\":\"count\",\n",
    "                                                        \"CREDIT_CLOSED\":\"sum\",\n",
    "                                                        \"CREDIT_BAD\":\"sum\",\n",
    "                                                        \"DAYS_CREDIT\":\"max\",\n",
    "                                                        \"CREDIT_DAY_OVERDUE\":\"max\",\n",
    "                                                        \"AMT_CREDIT_MAX_OVERDUE\":\"max\",\n",
    "                                                        \"CNT_CREDIT_PROLONG\":\"sum\",\n",
    "                                                        \"AMT_CREDIT_SUM\":\"sum\",\n",
    "                                                        \"AMT_CREDIT_SUM_DEBT\":\"sum\",\n",
    "                                                        \"AMT_CREDIT_SUM_LIMIT\":\"sum\",\n",
    "                                                        \"AMT_CREDIT_SUM_OVERDUE\":\"sum\",\n",
    "                                                        \"AMT_ANNUITY\":\"sum\",\n",
    "                                                        \"STATUS_OPEN\":\"sum\",\n",
    "                                                        \"N_DPD60\":\"sum\",\n",
    "                                                        \"FLAG_DPD60\":\"max\"}).reset_index()\n",
    "\n",
    "# rename columns\n",
    "df_bureau_processed = df_bureau_processed.rename(index=str, columns={\"SK_ID_BUREAU\":\"CREDIT_CT\", \n",
    "                                                                     \"CREDIT_CLOSED\":\"CREDIT_CLOSED_SUM\",\n",
    "                                                                     \"CREDIT_BAD\":\"CREDIT_BAD_SUM\",\n",
    "                                                                     \"DAYS_CREDIT\":\"DAYS_CREDIT_MAX\",\n",
    "                                                                     \"CREDIT_DAY_OVERDUE\":\"CREDIT_DAY_OVERDUE_MAX\",\n",
    "                                                                     \"AMT_CREDIT_MAX_OVERDUE\":\"AMT_CREDIT_MAX_OVERDUE_MAX\",\n",
    "                                                                     \"CNT_CREDIT_PROLONG\":\"CNT_CREDIT_PROLONG_SUM\",\n",
    "                                                                     \"STATUS_OPEN\":\"STATUS_OPEN_CT\"})\n",
    "\n",
    "for col in df_bureau_processed.columns.tolist():\n",
    "    if col != 'SK_ID_CURR':\n",
    "        df_bureau_processed = df_bureau_processed.rename(index=str, columns={col:\"bureau_\"+col})"
   ]
  },
  {
   "cell_type": "code",
   "execution_count": 8,
   "metadata": {},
   "outputs": [],
   "source": [
    "## delete data to release memory ##\n",
    "del df_bureau \n",
    "del df_bureau_bal"
   ]
  },
  {
   "cell_type": "markdown",
   "metadata": {},
   "source": [
    "## 2 - Previous Application"
   ]
  },
  {
   "cell_type": "code",
   "execution_count": 9,
   "metadata": {},
   "outputs": [
    {
     "name": "stdout",
     "output_type": "stream",
     "text": [
      "time elapsed: 5.878181457519531 seconds\n",
      "dataframe dimension: (10001358, 8)\n"
     ]
    }
   ],
   "source": [
    "# df_pos_cash_bal\n",
    "df_pos_cash_bal = SF.load_csv(os.path.split(os.getcwd())[0] + \"\\\\2. Data\\\\POS_CASH_balance.csv\")\n",
    "\n",
    "df_temp01 = df_pos_cash_bal[df_pos_cash_bal['MONTHS_BALANCE'] >= -24].copy()\n",
    "df_temp01['NAME_CONTRACT_STATUS_C'] = np.where(df_temp01['NAME_CONTRACT_STATUS'] == 'Completed', 1, 0)\n",
    "df_temp01['SK_DPD60+'] = np.where(df_temp01['SK_DPD'] > 60, 1, 0)\n",
    "df_pos_cash_bal_agg = df_temp01.groupby(['SK_ID_PREV', 'SK_ID_CURR']).agg({\"NAME_CONTRACT_STATUS_C\":\"max\", \n",
    "                                                                           \"SK_DPD60+\":\"max\"}).reset_index()\n",
    "\n",
    "df_pos_cash_bal_agg = df_pos_cash_bal_agg.groupby('SK_ID_CURR').agg({\"NAME_CONTRACT_STATUS_C\":\"sum\", \n",
    "                                                                     \"SK_DPD60+\":\"sum\"}).reset_index()\n",
    "\n",
    "for col in df_pos_cash_bal_agg.columns.tolist():\n",
    "    if col != 'SK_ID_CURR':\n",
    "        df_bureau_processed = df_bureau_processed.rename(index=str, columns={col:\"pos_cash\"+col})\n",
    "        \n",
    "del df_pos_cash_bal"
   ]
  },
  {
   "cell_type": "code",
   "execution_count": 10,
   "metadata": {},
   "outputs": [
    {
     "name": "stdout",
     "output_type": "stream",
     "text": [
      "time elapsed: 9.524728059768677 seconds\n",
      "dataframe dimension: (13605401, 8)\n"
     ]
    }
   ],
   "source": [
    "# df_installments_payments\n",
    "df_installments_payments = SF.load_csv(os.path.split(os.getcwd())[0] + \"\\\\2. Data\\\\installments_payments.csv\")\n",
    "\n",
    "df_temp01 = df_installments_payments.copy()\n",
    "df_temp01['LATE_PAYMENT'] = np.where(df_temp01['DAYS_INSTALMENT'] - df_temp01['DAYS_ENTRY_PAYMENT'] < 0, 1, 0)\n",
    "df_temp01['INSUFFICIENT_PAYMENT'] = np.where(df_temp01['AMT_PAYMENT'] - df_temp01['AMT_INSTALMENT'] < 0, 1, 0)\n",
    "\n",
    "df_installments_payments_agg = df_temp01.groupby(['SK_ID_PREV', 'SK_ID_CURR']).agg({\"LATE_PAYMENT\":\"sum\", \n",
    "                                                                                    \"INSUFFICIENT_PAYMENT\":\"sum\"}).reset_index()\n",
    "\n",
    "df_installments_payments_agg = df_installments_payments_agg.groupby('SK_ID_CURR').agg({\"LATE_PAYMENT\":\"sum\", \n",
    "                                                                                       \"INSUFFICIENT_PAYMENT\":\"sum\"}).reset_index()\n",
    "\n",
    "for col in df_installments_payments_agg.columns.tolist():\n",
    "    if col != 'SK_ID_CURR':\n",
    "        df_bureau_processed = df_bureau_processed.rename(index=str, columns={col:\"installments_\"+col})\n",
    "        \n",
    "del df_installments_payments"
   ]
  },
  {
   "cell_type": "code",
   "execution_count": 11,
   "metadata": {},
   "outputs": [
    {
     "name": "stdout",
     "output_type": "stream",
     "text": [
      "time elapsed: 7.600109338760376 seconds\n",
      "dataframe dimension: (3840312, 23)\n"
     ]
    }
   ],
   "source": [
    "# df_credit_card_bal\n",
    "df_credit_card_bal = SF.load_csv(os.path.split(os.getcwd())[0] + \"\\\\2. Data\\\\credit_card_balance.csv\")\n",
    "\n",
    "df_temp01 = df_credit_card_bal[df_credit_card_bal['MONTHS_BALANCE'] >= -24].copy() # past 2 years\n",
    "df_temp01['UTILIZATION'] = np.where(df_temp01['AMT_CREDIT_LIMIT_ACTUAL'] == 0, np.nan, df_temp01['AMT_BALANCE'] * 1.0 / df_temp01['AMT_CREDIT_LIMIT_ACTUAL'])\n",
    "df_temp01['NAME_CONTRACT_STATUS_C'] = np.where(df_temp01['NAME_CONTRACT_STATUS'] == 'Completed', 1, 0)\n",
    "df_temp01['SK_DPD60+'] = np.where(df_temp01['SK_DPD'] > 60, 1, 0)\n",
    "\n",
    "df_credit_card_bal_agg = df_temp01.groupby(['SK_ID_PREV', 'SK_ID_CURR']).agg({\"UTILIZATION\":\"max\",\n",
    "                                                                              \"NAME_CONTRACT_STATUS_C\":\"max\", \n",
    "                                                                              \"SK_DPD60+\":\"max\"}).reset_index()\n",
    "\n",
    "df_credit_card_bal_agg = df_credit_card_bal_agg.groupby('SK_ID_CURR').agg({\"UTILIZATION\":\"max\",\n",
    "                                                                           \"NAME_CONTRACT_STATUS_C\":\"sum\", \n",
    "                                                                           \"SK_DPD60+\":\"sum\"}).reset_index()\n",
    "\n",
    "for col in df_credit_card_bal_agg.columns.tolist():\n",
    "    if col != 'SK_ID_CURR':\n",
    "        df_bureau_processed = df_bureau_processed.rename(index=str, columns={col:\"credit_card_\"+col})\n",
    "        \n",
    "del df_credit_card_bal"
   ]
  },
  {
   "cell_type": "code",
   "execution_count": 12,
   "metadata": {
    "scrolled": true
   },
   "outputs": [
    {
     "name": "stdout",
     "output_type": "stream",
     "text": [
      "time elapsed: 6.822546005249023 seconds\n",
      "dataframe dimension: (1670214, 37)\n"
     ]
    }
   ],
   "source": [
    "# df_pre_application\n",
    "df_pre_application = SF.load_csv(os.path.split(os.getcwd())[0] + \"\\\\2. Data\\\\previous_application.csv\")\n",
    "\n",
    "df_pre_application['REFUSED_CONTRACT'] = np.where(df_pre_application['NAME_CONTRACT_STATUS'] == 'Refused', 1, 0)\n",
    "\n",
    "df_pre_application_agg = df_pre_application.groupby('SK_ID_CURR').agg({'SK_ID_PREV':'count',\n",
    "                                                                       'NAME_CONTRACT_TYPE':'nunique',\n",
    "                                                                       'AMT_ANNUITY':'sum',\n",
    "                                                                       'AMT_APPLICATION':'sum',\n",
    "                                                                       'AMT_CREDIT':'sum',\n",
    "                                                                       'AMT_DOWN_PAYMENT':'sum',\n",
    "                                                                       'AMT_GOODS_PRICE':'sum',\n",
    "                                                                       'RATE_DOWN_PAYMENT':'max',\n",
    "                                                                       'RATE_INTEREST_PRIMARY':'max',\n",
    "                                                                       'RATE_INTEREST_PRIVILEGED':'max',\n",
    "                                                                       'NAME_CASH_LOAN_PURPOSE':'nunique',\n",
    "                                                                       'REFUSED_CONTRACT':['sum', 'max'],\n",
    "                                                                       'NAME_PAYMENT_TYPE':'nunique',\n",
    "                                                                       'PRODUCT_COMBINATION':'nunique',\n",
    "                                                                       'DAYS_FIRST_DUE':'max',\n",
    "                                                                       'NFLAG_INSURED_ON_APPROVAL':'max'}).reset_index()\n",
    "\n",
    "# rename columns\n",
    "ls_name=[]\n",
    "for i in range(len(df_pre_application_agg.columns.tolist())):\n",
    "    if df_pre_application_agg.columns.tolist()[i][1] == '':\n",
    "        ls_name.append(df_pre_application_agg.columns.tolist()[i][0])\n",
    "    else:\n",
    "        ls_name.append('pre_app_'+ df_pre_application_agg.columns.tolist()[i][0] + '_' + df_pre_application_agg.columns.tolist()[i][1])\n",
    "\n",
    "df_pre_application_agg.columns = ls_name\n",
    "\n",
    "del df_pre_application"
   ]
  },
  {
   "cell_type": "code",
   "execution_count": 13,
   "metadata": {
    "scrolled": true
   },
   "outputs": [],
   "source": [
    "df_pre_application_processed_agg = df_pre_application_agg.merge(df_pos_cash_bal_agg, on='SK_ID_CURR', how='left').merge(\n",
    "    df_installments_payments_agg, on='SK_ID_CURR', how='left').merge(\n",
    "    df_credit_card_bal_agg, on='SK_ID_CURR', how='left')"
   ]
  },
  {
   "cell_type": "code",
   "execution_count": 14,
   "metadata": {},
   "outputs": [],
   "source": [
    "# delete data to release memory\n",
    "del df_pre_application_agg\n",
    "del df_pos_cash_bal_agg\n",
    "del df_installments_payments_agg\n",
    "del df_credit_card_bal_agg"
   ]
  },
  {
   "cell_type": "markdown",
   "metadata": {},
   "source": [
    "# Merge datasets"
   ]
  },
  {
   "cell_type": "code",
   "execution_count": 15,
   "metadata": {},
   "outputs": [
    {
     "name": "stdout",
     "output_type": "stream",
     "text": [
      "time elapsed: 3.8680663108825684 seconds\n",
      "dataframe dimension: (307511, 51)\n"
     ]
    }
   ],
   "source": [
    "df_model_basic = SF.load_csv(os.path.split(os.getcwd())[0] + \"\\\\3. Output\\\\Intermediate Data\\\\modeling_ds_basic.csv\")\n",
    "df_model = df_model_basic.merge(df_pre_application_processed_agg, on=\"SK_ID_CURR\", how=\"left\").merge(df_bureau_processed, on=\"SK_ID_CURR\", how=\"left\")"
   ]
  },
  {
   "cell_type": "code",
   "execution_count": 16,
   "metadata": {},
   "outputs": [],
   "source": [
    "df_model.to_csv(os.path.split(os.getcwd())[0] + \"\\\\3. Output\\\\Intermediate Data\\\\modeling_ds.csv\", index=False)"
   ]
  }
 ],
 "metadata": {
  "kernelspec": {
   "display_name": "Python 3",
   "language": "python",
   "name": "python3"
  },
  "language_info": {
   "codemirror_mode": {
    "name": "ipython",
    "version": 3
   },
   "file_extension": ".py",
   "mimetype": "text/x-python",
   "name": "python",
   "nbconvert_exporter": "python",
   "pygments_lexer": "ipython3",
   "version": "3.7.6"
  }
 },
 "nbformat": 4,
 "nbformat_minor": 2
}
